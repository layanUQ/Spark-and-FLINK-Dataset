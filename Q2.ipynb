{
 "cells": [
  {
   "cell_type": "code",
   "execution_count": null,
   "id": "1be04677-eccd-47d7-9789-6ea9670888d7",
   "metadata": {},
   "outputs": [],
   "source": [
    "import pyspark\n",
    "from pyspark.sql import SparkSession\n",
    "from pyspark.sql import functions as F\n",
    "import matplotlib.pyplot as plt\n",
    "import seaborn as sns\n",
    "\n",
    "# Initialize Spark session\n",
    "spark = SparkSession.builder.appName(\"ArticleCount\").getOrCreate()\n",
    "\n",
    "# Load CSV into a Spark DataFrame (use the correct file path)\n",
    "file_path = r\"C:\\Users\\96659\\Desktop\\python_ws\\article_count_per_publisher_per_year.csv\"\n",
    "sample_df = spark.read.option(\"header\", \"true\").option(\"delimiter\", \";\").csv(file_path)\n",
    "\n",
    "# Assuming the publisher is the 2nd column and the year is the 1st column\n",
    "publisher_column_name = \"publisher0\"\n",
    "year_column_name = \"year\"\n",
    "article_count_column = \"article_count\"\n",
    "\n",
    "# Convert article count to integer for proper aggregation\n",
    "sample_df = sample_df.withColumn(article_count_column, F.col(article_count_column).cast(\"int\"))\n",
    "\n",
    "# Group by publisher and year, then count articles\n",
    "articles_per_publisher = sample_df.groupBy(year_column_name, publisher_column_name).agg(\n",
    "    F.sum(article_count_column).alias(\"article_count\")\n",
    ")\n",
    "\n",
    "# Find the publisher with the highest number of articles each year\n",
    "window_spec = pyspark.sql.Window.partitionBy(year_column_name).orderBy(F.desc(\"article_count\"))\n",
    "highest_articles_per_year = articles_per_publisher.withColumn(\n",
    "    \"rank\", F.rank().over(window_spec)\n",
    ").filter(F.col(\"rank\") == 1).drop(\"rank\")\n",
    "\n",
    "# Convert to Pandas for visualization\n",
    "highest_articles_per_year_pd = highest_articles_per_year.toPandas()\n",
    "\n",
    "# Plot the results\n",
    "plt.figure(figsize=(12, 6))\n",
    "sns.barplot(data=highest_articles_per_year_pd, x=year_column_name, y='article_count', hue=publisher_column_name)\n",
    "plt.title('Publisher with Highest Number of Articles Per Year')\n",
    "plt.xlabel('Year')\n",
    "plt.ylabel('Number of Articles')\n",
    "plt.xticks(rotation=45)\n",
    "plt.legend(title=publisher_column_name)\n",
    "plt.show()\n"
   ]
  }
 ],
 "metadata": {
  "kernelspec": {
   "display_name": "Python 3 (ipykernel)",
   "language": "python",
   "name": "python3"
  },
  "language_info": {
   "codemirror_mode": {
    "name": "ipython",
    "version": 3
   },
   "file_extension": ".py",
   "mimetype": "text/x-python",
   "name": "python",
   "nbconvert_exporter": "python",
   "pygments_lexer": "ipython3",
   "version": "3.12.7"
  }
 },
 "nbformat": 4,
 "nbformat_minor": 5
}
